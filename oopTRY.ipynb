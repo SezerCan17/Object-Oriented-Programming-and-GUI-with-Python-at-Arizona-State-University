{
 "cells": [
  {
   "cell_type": "code",
   "execution_count": 28,
   "metadata": {},
   "outputs": [
    {
     "ename": "AttributeError",
     "evalue": "'Nurse' object has no attribute 'hoursWorked'",
     "output_type": "error",
     "traceback": [
      "\u001b[1;31m---------------------------------------------------------------------------\u001b[0m",
      "\u001b[1;31mAttributeError\u001b[0m                            Traceback (most recent call last)",
      "Cell \u001b[1;32mIn[28], line 66\u001b[0m\n\u001b[0;32m     64\u001b[0m \u001b[38;5;66;03m# Hemşire nesnesi oluştur\u001b[39;00m\n\u001b[0;32m     65\u001b[0m emp1 \u001b[38;5;241m=\u001b[39m Nurse(\u001b[38;5;124m\"\u001b[39m\u001b[38;5;124mTrauma\u001b[39m\u001b[38;5;124m\"\u001b[39m, \u001b[38;5;124m\"\u001b[39m\u001b[38;5;124mTina Baldwin\u001b[39m\u001b[38;5;124m\"\u001b[39m, \u001b[38;5;241m1231241\u001b[39m, \u001b[38;5;241m65.54\u001b[39m, \u001b[38;5;241m40\u001b[39m)\n\u001b[1;32m---> 66\u001b[0m \u001b[43memp1\u001b[49m\u001b[38;5;241;43m.\u001b[39;49m\u001b[43mdisplay\u001b[49m\u001b[43m(\u001b[49m\u001b[43m)\u001b[49m  \u001b[38;5;66;03m# Bilgileri göster\u001b[39;00m\n",
      "Cell \u001b[1;32mIn[28], line 61\u001b[0m, in \u001b[0;36mNurse.display\u001b[1;34m(self)\u001b[0m\n\u001b[0;32m     60\u001b[0m \u001b[38;5;28;01mdef\u001b[39;00m \u001b[38;5;21mdisplay\u001b[39m(\u001b[38;5;28mself\u001b[39m):\n\u001b[1;32m---> 61\u001b[0m     \u001b[38;5;28;43msuper\u001b[39;49m\u001b[43m(\u001b[49m\u001b[43m)\u001b[49m\u001b[38;5;241;43m.\u001b[39;49m\u001b[43mdisplay\u001b[49m\u001b[43m(\u001b[49m\u001b[43m)\u001b[49m\n\u001b[0;32m     62\u001b[0m     \u001b[38;5;28mprint\u001b[39m(\u001b[38;5;124m\"\u001b[39m\u001b[38;5;124mSpecialty:\u001b[39m\u001b[38;5;124m\"\u001b[39m, \u001b[38;5;28mself\u001b[39m\u001b[38;5;241m.\u001b[39mspecialty)\n",
      "Cell \u001b[1;32mIn[28], line 39\u001b[0m, in \u001b[0;36mHospitalEmployee.display\u001b[1;34m(self)\u001b[0m\n\u001b[0;32m     38\u001b[0m \u001b[38;5;28;01mdef\u001b[39;00m \u001b[38;5;21mdisplay\u001b[39m(\u001b[38;5;28mself\u001b[39m):\n\u001b[1;32m---> 39\u001b[0m     \u001b[38;5;28;43mself\u001b[39;49m\u001b[38;5;241;43m.\u001b[39;49m\u001b[43mcalculatePay\u001b[49m\u001b[43m(\u001b[49m\u001b[43m)\u001b[49m  \u001b[38;5;66;03m# Ödeme hesapla\u001b[39;00m\n\u001b[0;32m     40\u001b[0m     \u001b[38;5;28mprint\u001b[39m(\u001b[38;5;124m\"\u001b[39m\u001b[38;5;124mName:\u001b[39m\u001b[38;5;124m\"\u001b[39m, \u001b[38;5;28mself\u001b[39m\u001b[38;5;241m.\u001b[39mempName)\n\u001b[0;32m     41\u001b[0m     \u001b[38;5;28mprint\u001b[39m(\u001b[38;5;124m\"\u001b[39m\u001b[38;5;124mEmployee Number:\u001b[39m\u001b[38;5;124m\"\u001b[39m, \u001b[38;5;28mself\u001b[39m\u001b[38;5;241m.\u001b[39mempNumber)\n",
      "Cell \u001b[1;32mIn[28], line 36\u001b[0m, in \u001b[0;36mHospitalEmployee.calculatePay\u001b[1;34m(self)\u001b[0m\n\u001b[0;32m     35\u001b[0m \u001b[38;5;28;01mdef\u001b[39;00m \u001b[38;5;21mcalculatePay\u001b[39m(\u001b[38;5;28mself\u001b[39m):\n\u001b[1;32m---> 36\u001b[0m     \u001b[38;5;28mself\u001b[39m\u001b[38;5;241m.\u001b[39mpay \u001b[38;5;241m=\u001b[39m \u001b[38;5;28;43mself\u001b[39;49m\u001b[38;5;241;43m.\u001b[39;49m\u001b[43mhoursWorked\u001b[49m \u001b[38;5;241m*\u001b[39m \u001b[38;5;28mself\u001b[39m\u001b[38;5;241m.\u001b[39mhourlyPay\n",
      "\u001b[1;31mAttributeError\u001b[0m: 'Nurse' object has no attribute 'hoursWorked'"
     ]
    }
   ],
   "source": [
    "class HospitalEmployee:\n",
    "    def __init__(self, *args):\n",
    "        if len(args) < 5:\n",
    "            self.empName = \"Unknown\"\n",
    "            self.empNumber = 0\n",
    "            self.hourlyPay = 0\n",
    "            self.hoursWorked = 0\n",
    "            self.pay = 0\n",
    "        else:\n",
    "            self.empName = args[0]\n",
    "            self.empNumber = args[1]\n",
    "            self.hourlyPay = args[2]\n",
    "            self.hoursWorked = args[3]\n",
    "            self.pay = args[4]\n",
    "\n",
    "    def getName(self):\n",
    "        return self.empName\n",
    "\n",
    "    def getNumber(self):\n",
    "        return self.empNumber\n",
    "\n",
    "    def getPay(self):\n",
    "        return self.pay\n",
    "\n",
    "    def getWorked(self):\n",
    "        return self.hoursWorked  \n",
    "\n",
    "    def setName(self, empName):\n",
    "        self.empName = empName\n",
    "\n",
    "    def setNumber(self, empNumber):\n",
    "        self.empNumber = empNumber\n",
    "\n",
    "    def setPay(self, pay):\n",
    "        self.pay = pay\n",
    "\n",
    "    def setWorked(self, worked):\n",
    "        self.hoursWorked = worked      \n",
    "\n",
    "    def calculatePay(self):\n",
    "        self.pay = self.hoursWorked * self.hourlyPay\n",
    "\n",
    "    def display(self):\n",
    "        self.calculatePay()  \n",
    "        print(\"Name:\", self.empName)\n",
    "        print(\"Employee Number:\", self.empNumber)\n",
    "        print(\"Employee Pay Rate:\", self.hourlyPay)\n",
    "        print(\"Hours Worked:\", self.hoursWorked)\n",
    "        print(\"Pay:\", \"${:,.2f}\".format(self.pay))  \n",
    "\n",
    "class Doctor(HospitalEmployee):\n",
    "    def __init__(self, specialty, empName, empNumber, hourlyPay, hoursWorked):\n",
    "        self.specialty = specialty\n",
    "        super().__init__(empName, empNumber, hourlyPay, hoursWorked)\n",
    "\n",
    "    def display(self):\n",
    "        super().display()\n",
    "        print(\"Specialty:\", self.specialty)  \n",
    "\n",
    "class Nurse(HospitalEmployee):\n",
    "    def __init__(self, specialty, empName, empNumber, hourlyPay, hoursWorked):\n",
    "        self.specialty = specialty\n",
    "        super().__init__(empName, empNumber, hourlyPay, hoursWorked)\n",
    "\n",
    "    def display(self):\n",
    "        super().display()\n",
    "        print(\"Specialty:\", self.specialty)  \n",
    "\n",
    "emp1 = Nurse(\"Trauma\", \"Tina Baldwin\", 1231241, 65.54, 40)\n",
    "emp1.display()\n"
   ]
  }
 ],
 "metadata": {
  "kernelspec": {
   "display_name": "Python 3",
   "language": "python",
   "name": "python3"
  },
  "language_info": {
   "codemirror_mode": {
    "name": "ipython",
    "version": 3
   },
   "file_extension": ".py",
   "mimetype": "text/x-python",
   "name": "python",
   "nbconvert_exporter": "python",
   "pygments_lexer": "ipython3",
   "version": "3.12.7"
  }
 },
 "nbformat": 4,
 "nbformat_minor": 2
}
